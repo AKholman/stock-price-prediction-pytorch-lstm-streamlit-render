{
 "cells": [
  {
   "cell_type": "markdown",
   "id": "c2fb738a-2014-4847-a538-9852a160a349",
   "metadata": {},
   "source": [
    "<center><h1> Next-day Stock Price Forecasting using LSTM model with Pytorch</h1></center>  \n",
    "\n",
    "Goal: Predict next-day close price for AAPL stock (daily regression)\n",
    "Dataset: Daily OHLCV from Yahoo Finance, last 5 years (~1250 rows)\n",
    "Pipeline: CSV download → preprocessing → train/test split → feature engineering → model → deployment\n",
    "Serving & scaling: Expose API in Streamlit, handle multiple users\n",
    "Monitoring: Track MAE/RMSE on latest predictions, detect drift\n",
    "Tradeoffs & retraining: Decide update frequency (weekly/monthly), adjust features or model if performance drops  \n"
   ]
  },
  {
   "cell_type": "code",
   "execution_count": 2,
   "id": "a47daed7-3d04-4f97-8587-501b26aab768",
   "metadata": {},
   "outputs": [],
   "source": [
    "import yfinance as yf\n",
    "import numpy as np\n",
    "import pandas as pd\n",
    "import torch\n",
    "import torch.nn as nn\n",
    "from torch.utils.data import DataLoader, TensorDataset\n",
    "from sklearn.preprocessing import MinMaxScaler\n",
    "from sklearn.metrics import mean_squared_error, mean_absolute_error\n",
    "from math import sqrt\n",
    "import matplotlib.pyplot as plt"
   ]
  },
  {
   "cell_type": "code",
   "execution_count": 4,
   "id": "5a60ad1a-24f1-4db4-9f2c-993f2e415a27",
   "metadata": {},
   "outputs": [
    {
     "name": "stderr",
     "output_type": "stream",
     "text": [
      "[*********************100%***********************]  1 of 1 completed\n"
     ]
    }
   ],
   "source": [
    "# Load the CSV file\n",
    "ticker = \"AAPL\"\n",
    "df = yf.download(ticker, period=\"5y\", interval=\"1d\", auto_adjust=False)\n",
    "df = df.rename(columns={'Adj Close': 'Adj_Close'})\n",
    "# Keep only the second level (the actual data columns)\n",
    "df.columns = [col[0] if col[1] == 'AAPL' else col[1] for col in df.columns]\n",
    "df = df.sort_index()\n",
    "\n",
    "# Create target column (next-day Adj_Close)\n",
    "df['Target'] = df['Adj_Close'].shift(-1)\n",
    "df = df.dropna()\n",
    "\n",
    "# Features\n",
    "features = ['Open', 'High', 'Low', 'Close', 'Adj_Close', 'Volume']"
   ]
  },
  {
   "cell_type": "code",
   "execution_count": 6,
   "id": "f58373b9-6f74-4787-8545-7ee3ebe64e8a",
   "metadata": {},
   "outputs": [
    {
     "name": "stdout",
     "output_type": "stream",
     "text": [
      "Train: 1004, Val: 125, Test: 126\n"
     ]
    }
   ],
   "source": [
    "train_size = int(len(df) * 0.8)\n",
    "val_size = int(len(df) * 0.1)\n",
    "\n",
    "train = df.iloc[:train_size]\n",
    "val = df.iloc[train_size:train_size + val_size]\n",
    "test = df.iloc[train_size + val_size:]\n",
    "\n",
    "print(f\"Train: {len(train)}, Val: {len(val)}, Test: {len(test)}\")"
   ]
  },
  {
   "cell_type": "code",
   "execution_count": 8,
   "id": "2c9dfa12-e47e-4864-9839-70f5af9b7835",
   "metadata": {},
   "outputs": [],
   "source": [
    "scaler_X = MinMaxScaler()\n",
    "scaler_y = MinMaxScaler()\n",
    "\n",
    "X_train = scaler_X.fit_transform(train[features])\n",
    "y_train = scaler_y.fit_transform(train[['Target']])\n",
    "\n",
    "X_val = scaler_X.transform(val[features])\n",
    "y_val = scaler_y.transform(val[['Target']])\n",
    "\n",
    "X_test = scaler_X.transform(test[features])\n",
    "y_test = scaler_y.transform(test[['Target']])\n"
   ]
  },
  {
   "cell_type": "code",
   "execution_count": 10,
   "id": "de072392-460a-4b5d-b10b-7ae82c0f86b1",
   "metadata": {},
   "outputs": [],
   "source": [
    "def create_sequences(X, y, time_steps=60):\n",
    "    Xs, ys = [], []\n",
    "    for i in range(len(X) - time_steps):\n",
    "        Xs.append(X[i:(i + time_steps)])\n",
    "        ys.append(y[i + time_steps])\n",
    "    return np.array(Xs), np.array(ys)\n",
    "\n",
    "time_steps = 60\n",
    "X_train_seq, y_train_seq = create_sequences(X_train, y_train, time_steps)\n",
    "X_val_seq, y_val_seq = create_sequences(X_val, y_val, time_steps)\n",
    "X_test_seq, y_test_seq = create_sequences(X_test, y_test, time_steps)\n"
   ]
  },
  {
   "cell_type": "code",
   "execution_count": 12,
   "id": "93c0db84-2b5d-4574-9eb2-d6bfa3d63f60",
   "metadata": {},
   "outputs": [],
   "source": [
    "device = torch.device(\"cuda\" if torch.cuda.is_available() else \"cpu\")\n",
    "\n",
    "X_train_t = torch.tensor(X_train_seq, dtype=torch.float32).to(device)\n",
    "y_train_t = torch.tensor(y_train_seq, dtype=torch.float32).to(device)\n",
    "X_val_t = torch.tensor(X_val_seq, dtype=torch.float32).to(device)\n",
    "y_val_t = torch.tensor(y_val_seq, dtype=torch.float32).to(device)\n",
    "X_test_t = torch.tensor(X_test_seq, dtype=torch.float32).to(device)\n",
    "y_test_t = torch.tensor(y_test_seq, dtype=torch.float32).to(device)\n",
    "\n",
    "train_loader = DataLoader(TensorDataset(X_train_t, y_train_t), batch_size=32, shuffle=True)\n",
    "val_loader = DataLoader(TensorDataset(X_val_t, y_val_t), batch_size=32, shuffle=False)\n"
   ]
  },
  {
   "cell_type": "code",
   "execution_count": 14,
   "id": "c99db033-3d47-48c2-a1b4-7a55440c4cf0",
   "metadata": {},
   "outputs": [
    {
     "name": "stdout",
     "output_type": "stream",
     "text": [
      "LSTMModel(\n",
      "  (lstm): LSTM(6, 64, num_layers=2, batch_first=True, dropout=0.2)\n",
      "  (fc1): Linear(in_features=64, out_features=16, bias=True)\n",
      "  (relu): ReLU()\n",
      "  (fc2): Linear(in_features=16, out_features=1, bias=True)\n",
      ")\n"
     ]
    }
   ],
   "source": [
    "class LSTMModel(nn.Module):\n",
    "    def __init__(self, input_dim, hidden_dim, num_layers, output_dim, dropout=0.2):\n",
    "        super(LSTMModel, self).__init__()\n",
    "        self.lstm = nn.LSTM(input_dim, hidden_dim, num_layers, batch_first=True, dropout=dropout)\n",
    "        self.fc1 = nn.Linear(hidden_dim, 16)\n",
    "        self.relu = nn.ReLU()\n",
    "        self.fc2 = nn.Linear(16, output_dim)\n",
    "        \n",
    "    def forward(self, x):\n",
    "        out, _ = self.lstm(x)\n",
    "        out = out[:, -1, :]  # take the last time step\n",
    "        out = self.relu(self.fc1(out))\n",
    "        out = self.fc2(out)\n",
    "        return out\n",
    "\n",
    "model = LSTMModel(input_dim=len(features), hidden_dim=64, num_layers=2, output_dim=1).to(device)\n",
    "print(model)"
   ]
  },
  {
   "cell_type": "code",
   "execution_count": 16,
   "id": "af5136e3-55ff-43d1-ad6f-7371fa2a1e54",
   "metadata": {},
   "outputs": [],
   "source": [
    "criterion = nn.MSELoss()\n",
    "optimizer = torch.optim.Adam(model.parameters(), lr=0.001)"
   ]
  },
  {
   "cell_type": "code",
   "execution_count": 17,
   "id": "7ae133c0-1426-4a53-858f-76256b6eaf72",
   "metadata": {},
   "outputs": [
    {
     "name": "stdout",
     "output_type": "stream",
     "text": [
      "Epoch 1/60 | Train Loss: 0.034179 | Val Loss: 0.016421\n",
      "Epoch 2/60 | Train Loss: 0.005683 | Val Loss: 0.016818\n",
      "Epoch 3/60 | Train Loss: 0.003331 | Val Loss: 0.010596\n",
      "Epoch 4/60 | Train Loss: 0.002518 | Val Loss: 0.011826\n",
      "Epoch 5/60 | Train Loss: 0.002349 | Val Loss: 0.009122\n",
      "Epoch 6/60 | Train Loss: 0.002199 | Val Loss: 0.009731\n",
      "Epoch 7/60 | Train Loss: 0.002221 | Val Loss: 0.011525\n",
      "Epoch 8/60 | Train Loss: 0.002134 | Val Loss: 0.009125\n",
      "Epoch 9/60 | Train Loss: 0.002198 | Val Loss: 0.010671\n",
      "Epoch 10/60 | Train Loss: 0.001939 | Val Loss: 0.010502\n",
      "Epoch 11/60 | Train Loss: 0.001921 | Val Loss: 0.012562\n",
      "Epoch 12/60 | Train Loss: 0.002050 | Val Loss: 0.011978\n",
      "Epoch 13/60 | Train Loss: 0.001892 | Val Loss: 0.008730\n",
      "Epoch 14/60 | Train Loss: 0.001829 | Val Loss: 0.009510\n",
      "Epoch 15/60 | Train Loss: 0.001722 | Val Loss: 0.008599\n",
      "Epoch 16/60 | Train Loss: 0.001820 | Val Loss: 0.009869\n",
      "Epoch 17/60 | Train Loss: 0.001717 | Val Loss: 0.008463\n",
      "Epoch 18/60 | Train Loss: 0.001612 | Val Loss: 0.008692\n",
      "Epoch 19/60 | Train Loss: 0.001666 | Val Loss: 0.008275\n",
      "Epoch 20/60 | Train Loss: 0.001538 | Val Loss: 0.008301\n",
      "Epoch 21/60 | Train Loss: 0.001732 | Val Loss: 0.008093\n",
      "Epoch 22/60 | Train Loss: 0.001624 | Val Loss: 0.007848\n",
      "Epoch 23/60 | Train Loss: 0.001655 | Val Loss: 0.008133\n",
      "Epoch 24/60 | Train Loss: 0.001494 | Val Loss: 0.007798\n",
      "Epoch 25/60 | Train Loss: 0.001637 | Val Loss: 0.007417\n",
      "Epoch 26/60 | Train Loss: 0.001646 | Val Loss: 0.007775\n",
      "Epoch 27/60 | Train Loss: 0.001819 | Val Loss: 0.009881\n",
      "Epoch 28/60 | Train Loss: 0.001443 | Val Loss: 0.007203\n",
      "Epoch 29/60 | Train Loss: 0.001442 | Val Loss: 0.006927\n",
      "Epoch 30/60 | Train Loss: 0.001440 | Val Loss: 0.007005\n",
      "Epoch 31/60 | Train Loss: 0.001519 | Val Loss: 0.006722\n",
      "Epoch 32/60 | Train Loss: 0.001360 | Val Loss: 0.006974\n",
      "Epoch 33/60 | Train Loss: 0.001322 | Val Loss: 0.006771\n",
      "Epoch 34/60 | Train Loss: 0.001453 | Val Loss: 0.009559\n",
      "Epoch 35/60 | Train Loss: 0.001561 | Val Loss: 0.006735\n",
      "Epoch 36/60 | Train Loss: 0.001377 | Val Loss: 0.007665\n",
      "Epoch 37/60 | Train Loss: 0.001426 | Val Loss: 0.006388\n",
      "Epoch 38/60 | Train Loss: 0.001351 | Val Loss: 0.006384\n",
      "Epoch 39/60 | Train Loss: 0.001332 | Val Loss: 0.006245\n",
      "Epoch 40/60 | Train Loss: 0.001284 | Val Loss: 0.006718\n",
      "Epoch 41/60 | Train Loss: 0.001730 | Val Loss: 0.006321\n",
      "Epoch 42/60 | Train Loss: 0.001368 | Val Loss: 0.006226\n",
      "Epoch 43/60 | Train Loss: 0.001292 | Val Loss: 0.005998\n",
      "Epoch 44/60 | Train Loss: 0.001251 | Val Loss: 0.006267\n",
      "Epoch 45/60 | Train Loss: 0.001226 | Val Loss: 0.006295\n",
      "Epoch 46/60 | Train Loss: 0.001211 | Val Loss: 0.005945\n",
      "Epoch 47/60 | Train Loss: 0.001314 | Val Loss: 0.005829\n",
      "Epoch 48/60 | Train Loss: 0.001165 | Val Loss: 0.005638\n",
      "Epoch 49/60 | Train Loss: 0.001287 | Val Loss: 0.008180\n",
      "Epoch 50/60 | Train Loss: 0.001387 | Val Loss: 0.006154\n",
      "Epoch 51/60 | Train Loss: 0.001224 | Val Loss: 0.006492\n",
      "Epoch 52/60 | Train Loss: 0.001245 | Val Loss: 0.005681\n",
      "Epoch 53/60 | Train Loss: 0.001312 | Val Loss: 0.005921\n",
      "Epoch 54/60 | Train Loss: 0.001229 | Val Loss: 0.005641\n",
      "Epoch 55/60 | Train Loss: 0.001241 | Val Loss: 0.006039\n",
      "Epoch 56/60 | Train Loss: 0.001178 | Val Loss: 0.005792\n",
      "Epoch 57/60 | Train Loss: 0.001334 | Val Loss: 0.005670\n",
      "Epoch 58/60 | Train Loss: 0.001204 | Val Loss: 0.005819\n",
      "Early stopping.\n"
     ]
    }
   ],
   "source": [
    "epochs = 60\n",
    "best_val_loss = float(\"inf\")\n",
    "patience, wait = 10, 0\n",
    "\n",
    "for epoch in range(epochs):\n",
    "    model.train()\n",
    "    train_losses = []\n",
    "    for X_batch, y_batch in train_loader:\n",
    "        optimizer.zero_grad()\n",
    "        y_pred = model(X_batch)\n",
    "        loss = criterion(y_pred, y_batch)\n",
    "        loss.backward()\n",
    "        optimizer.step()\n",
    "        train_losses.append(loss.item())\n",
    "\n",
    "    # Validation\n",
    "    model.eval()\n",
    "    with torch.no_grad():\n",
    "        val_pred = model(X_val_t)\n",
    "        val_loss = criterion(val_pred, y_val_t).item()\n",
    "    \n",
    "    print(f\"Epoch {epoch+1}/{epochs} | Train Loss: {np.mean(train_losses):.6f} | Val Loss: {val_loss:.6f}\")\n",
    "    \n",
    "    # Early stopping\n",
    "    if val_loss < best_val_loss:\n",
    "        best_val_loss = val_loss\n",
    "        torch.save(model.state_dict(), \"best_lstm_model.pth\")\n",
    "        wait = 0\n",
    "    else:\n",
    "        wait += 1\n",
    "        if wait >= patience:\n",
    "            print(\"Early stopping.\")\n",
    "            break\n",
    "\n"
   ]
  },
  {
   "cell_type": "code",
   "execution_count": 20,
   "id": "e99c9b67-cb8f-4b78-8217-f452b084f4ca",
   "metadata": {},
   "outputs": [
    {
     "name": "stdout",
     "output_type": "stream",
     "text": [
      "Test RMSE: 9.953\n",
      "Test MAE: 8.191\n"
     ]
    },
    {
     "name": "stderr",
     "output_type": "stream",
     "text": [
      "/var/folders/p7/krbf_vbj2lqf31fmqjz_j8xm0000gn/T/ipykernel_84060/1688894728.py:1: FutureWarning: You are using `torch.load` with `weights_only=False` (the current default value), which uses the default pickle module implicitly. It is possible to construct malicious pickle data which will execute arbitrary code during unpickling (See https://github.com/pytorch/pytorch/blob/main/SECURITY.md#untrusted-models for more details). In a future release, the default value for `weights_only` will be flipped to `True`. This limits the functions that could be executed during unpickling. Arbitrary objects will no longer be allowed to be loaded via this mode unless they are explicitly allowlisted by the user via `torch.serialization.add_safe_globals`. We recommend you start setting `weights_only=True` for any use case where you don't have full control of the loaded file. Please open an issue on GitHub for any issues related to this experimental feature.\n",
      "  model.load_state_dict(torch.load(\"best_lstm_model.pth\"))\n"
     ]
    }
   ],
   "source": [
    "model.load_state_dict(torch.load(\"best_lstm_model.pth\"))\n",
    "model.eval()\n",
    "with torch.no_grad():\n",
    "    y_pred_scaled = model(X_test_t).cpu().numpy()\n",
    "\n",
    "y_test_inv = scaler_y.inverse_transform(y_test_seq)\n",
    "y_pred_inv = scaler_y.inverse_transform(y_pred_scaled)\n",
    "\n",
    "rmse = sqrt(mean_squared_error(y_test_inv, y_pred_inv))\n",
    "mae = mean_absolute_error(y_test_inv, y_pred_inv)\n",
    "mape = np.mean(np.abs((y_test_inv - y_pred_inv) / y_test_inv)) * 100\n",
    "\n",
    "print(f\"Test RMSE: {rmse:.3f}\")\n",
    "print(f\"Test MAE: {mae:.3f}\")\n"
   ]
  },
  {
   "cell_type": "markdown",
   "id": "bf0f6bef-bc46-4462-b987-74a56e5de95c",
   "metadata": {},
   "source": [
    "Test RMSE: 7.259  \n",
    "Test MAE: 5.776"
   ]
  },
  {
   "cell_type": "code",
   "execution_count": 90,
   "id": "fff46d50-1a45-4d8b-9fa6-f1e5409564e3",
   "metadata": {},
   "outputs": [],
   "source": [
    "torch.save(model.state_dict(), \"best_lstm_model.pth\")"
   ]
  },
  {
   "cell_type": "code",
   "execution_count": null,
   "id": "0f9b20c3-3f76-4dac-bcdd-7d40f906c582",
   "metadata": {},
   "outputs": [],
   "source": []
  }
 ],
 "metadata": {
  "kernelspec": {
   "display_name": "Python 3 (ipykernel)",
   "language": "python",
   "name": "python3"
  },
  "language_info": {
   "codemirror_mode": {
    "name": "ipython",
    "version": 3
   },
   "file_extension": ".py",
   "mimetype": "text/x-python",
   "name": "python",
   "nbconvert_exporter": "python",
   "pygments_lexer": "ipython3",
   "version": "3.12.4"
  }
 },
 "nbformat": 4,
 "nbformat_minor": 5
}
