{
 "cells": [
  {
   "cell_type": "markdown",
   "id": "2aed08ed-7db8-4b77-8da8-a5132c3dccc2",
   "metadata": {},
   "source": [
    "<center><h1>ML models for daily AAPL Stock Price Forecasting</h1></center>  \n",
    "\n",
    "Goal: Predict next-day close price for AAPL stock (daily regression)\n",
    "Dataset: Daily OHLCV from Yahoo Finance, last 5 years (~1250 rows)\n",
    "Pipeline: CSV download → preprocessing → train/test split → feature engineering → model → deployment\n",
    "Serving & scaling: Expose API in Streamlit, handle multiple users\n",
    "Monitoring: Track MAE/RMSE on latest predictions, detect drift\n",
    "Tradeoffs & retraining: Decide update frequency (weekly/monthly), adjust features or model if performance drops  \n",
    "\n",
    "Models:   \n",
    "1) RandomForestRegression\n",
    "2) XGBoostRegression\n"
   ]
  },
  {
   "cell_type": "code",
   "execution_count": 2,
   "id": "17c2b1f9-6b86-4c79-87ef-c25ccdcf2024",
   "metadata": {},
   "outputs": [],
   "source": [
    "#import yfinance as yf\n",
    "import pandas as pd\n",
    "import numpy as np\n",
    "import matplotlib.pyplot as plt\n",
    "import seaborn as sns\n",
    "from sklearn.ensemble import RandomForestRegressor\n",
    "from sklearn.metrics import mean_squared_error, mean_absolute_error\n",
    "from sklearn.model_selection import TimeSeriesSplit, GridSearchCV\n",
    "from math import sqrt\n"
   ]
  },
  {
   "cell_type": "markdown",
   "id": "714e9a06-78e4-469d-8780-05b423114bb5",
   "metadata": {},
   "source": [
    "## 1. Loading data"
   ]
  },
  {
   "cell_type": "code",
   "execution_count": 5,
   "id": "04d423d6-5e36-4921-b062-2ace8bdeb6f3",
   "metadata": {},
   "outputs": [],
   "source": [
    "\n",
    "#data = yf.download(\"AAPL\", period=\"5y\", interval=\"1d\", auto_adjust=False)\n",
    "\n",
    "# saving the downloaded (on Oct_03, 2025) as csv file locally\n",
    "# Flatten columns if they are multi-index\n",
    "#if isinstance(data.columns, pd.MultiIndex):\n",
    "#    # Keep only the second level (the actual data columns)\n",
    "#data.columns = [col[0] if col[1] == 'AAPL' else col[1] for col in data.columns]\n",
    "#data.to_csv(\"AAPL_5y_daily.csv\") "
   ]
  },
  {
   "cell_type": "code",
   "execution_count": 7,
   "id": "d6dcaec4-b000-47f1-9bee-05ec1e67eebc",
   "metadata": {},
   "outputs": [
    {
     "data": {
      "text/html": [
       "<div>\n",
       "<style scoped>\n",
       "    .dataframe tbody tr th:only-of-type {\n",
       "        vertical-align: middle;\n",
       "    }\n",
       "\n",
       "    .dataframe tbody tr th {\n",
       "        vertical-align: top;\n",
       "    }\n",
       "\n",
       "    .dataframe thead th {\n",
       "        text-align: right;\n",
       "    }\n",
       "</style>\n",
       "<table border=\"1\" class=\"dataframe\">\n",
       "  <thead>\n",
       "    <tr style=\"text-align: right;\">\n",
       "      <th></th>\n",
       "      <th>Adj_Close</th>\n",
       "      <th>Close</th>\n",
       "      <th>High</th>\n",
       "      <th>Low</th>\n",
       "      <th>Open</th>\n",
       "      <th>Volume</th>\n",
       "    </tr>\n",
       "    <tr>\n",
       "      <th>Date</th>\n",
       "      <th></th>\n",
       "      <th></th>\n",
       "      <th></th>\n",
       "      <th></th>\n",
       "      <th></th>\n",
       "      <th></th>\n",
       "    </tr>\n",
       "  </thead>\n",
       "  <tbody>\n",
       "    <tr>\n",
       "      <th>2025-09-29</th>\n",
       "      <td>254.429993</td>\n",
       "      <td>254.429993</td>\n",
       "      <td>255.000000</td>\n",
       "      <td>253.009995</td>\n",
       "      <td>254.559998</td>\n",
       "      <td>40127700</td>\n",
       "    </tr>\n",
       "    <tr>\n",
       "      <th>2025-09-30</th>\n",
       "      <td>254.630005</td>\n",
       "      <td>254.630005</td>\n",
       "      <td>255.919998</td>\n",
       "      <td>253.110001</td>\n",
       "      <td>254.860001</td>\n",
       "      <td>37704300</td>\n",
       "    </tr>\n",
       "    <tr>\n",
       "      <th>2025-10-01</th>\n",
       "      <td>255.449997</td>\n",
       "      <td>255.449997</td>\n",
       "      <td>258.790009</td>\n",
       "      <td>254.929993</td>\n",
       "      <td>255.039993</td>\n",
       "      <td>48713900</td>\n",
       "    </tr>\n",
       "    <tr>\n",
       "      <th>2025-10-02</th>\n",
       "      <td>257.130005</td>\n",
       "      <td>257.130005</td>\n",
       "      <td>258.179993</td>\n",
       "      <td>254.149994</td>\n",
       "      <td>256.579987</td>\n",
       "      <td>42630200</td>\n",
       "    </tr>\n",
       "    <tr>\n",
       "      <th>2025-10-03</th>\n",
       "      <td>258.019989</td>\n",
       "      <td>258.019989</td>\n",
       "      <td>259.239990</td>\n",
       "      <td>253.949997</td>\n",
       "      <td>254.669998</td>\n",
       "      <td>49107000</td>\n",
       "    </tr>\n",
       "  </tbody>\n",
       "</table>\n",
       "</div>"
      ],
      "text/plain": [
       "             Adj_Close       Close        High         Low        Open  \\\n",
       "Date                                                                     \n",
       "2025-09-29  254.429993  254.429993  255.000000  253.009995  254.559998   \n",
       "2025-09-30  254.630005  254.630005  255.919998  253.110001  254.860001   \n",
       "2025-10-01  255.449997  255.449997  258.790009  254.929993  255.039993   \n",
       "2025-10-02  257.130005  257.130005  258.179993  254.149994  256.579987   \n",
       "2025-10-03  258.019989  258.019989  259.239990  253.949997  254.669998   \n",
       "\n",
       "              Volume  \n",
       "Date                  \n",
       "2025-09-29  40127700  \n",
       "2025-09-30  37704300  \n",
       "2025-10-01  48713900  \n",
       "2025-10-02  42630200  \n",
       "2025-10-03  49107000  "
      ]
     },
     "execution_count": 7,
     "metadata": {},
     "output_type": "execute_result"
    }
   ],
   "source": [
    "# downloaded data from csv file\n",
    "data = pd.read_csv(\"AAPL_5y_daily.csv\", index_col=[0], parse_dates=True)\n",
    "data = data.rename(columns={'Adj Close': 'Adj_Close'})\n",
    "data.tail()"
   ]
  },
  {
   "cell_type": "markdown",
   "id": "3c4d2101-472e-4d6c-9d79-4312e65e9325",
   "metadata": {},
   "source": [
    "\n",
    "# ML models "
   ]
  },
  {
   "cell_type": "markdown",
   "id": "6573ed96-ffa9-4f34-99b3-f7b1fbdbf07e",
   "metadata": {},
   "source": [
    "'''For RandomForest / XGBoost:\n",
    "\n",
    "We’ll use many features, including:  \n",
    "OHLCV columns;  \n",
    "Lag features (previous price values);  \n",
    "Rolling means, std, etc;  \n",
    "Date-based features (day, month, etc.);  \n",
    "\n",
    "No differencing or manual “stationarizing.”  \n",
    "The ML models will learn the patterns directly.'''\n",
    "\n"
   ]
  },
  {
   "cell_type": "code",
   "execution_count": 11,
   "id": "0db78200-3ef2-4f9c-875a-c2e8d714cdb5",
   "metadata": {},
   "outputs": [
    {
     "name": "stdout",
     "output_type": "stream",
     "text": [
      "<class 'pandas.core.frame.DataFrame'>\n",
      "DatetimeIndex: 1256 entries, 2020-10-05 to 2025-10-03\n",
      "Data columns (total 6 columns):\n",
      " #   Column     Non-Null Count  Dtype  \n",
      "---  ------     --------------  -----  \n",
      " 0   Adj_Close  1256 non-null   float64\n",
      " 1   Close      1256 non-null   float64\n",
      " 2   High       1256 non-null   float64\n",
      " 3   Low        1256 non-null   float64\n",
      " 4   Open       1256 non-null   float64\n",
      " 5   Volume     1256 non-null   int64  \n",
      "dtypes: float64(5), int64(1)\n",
      "memory usage: 68.7 KB\n"
     ]
    },
    {
     "data": {
      "text/html": [
       "<div>\n",
       "<style scoped>\n",
       "    .dataframe tbody tr th:only-of-type {\n",
       "        vertical-align: middle;\n",
       "    }\n",
       "\n",
       "    .dataframe tbody tr th {\n",
       "        vertical-align: top;\n",
       "    }\n",
       "\n",
       "    .dataframe thead th {\n",
       "        text-align: right;\n",
       "    }\n",
       "</style>\n",
       "<table border=\"1\" class=\"dataframe\">\n",
       "  <thead>\n",
       "    <tr style=\"text-align: right;\">\n",
       "      <th></th>\n",
       "      <th>Adj_Close</th>\n",
       "      <th>Close</th>\n",
       "      <th>High</th>\n",
       "      <th>Low</th>\n",
       "      <th>Open</th>\n",
       "      <th>Volume</th>\n",
       "    </tr>\n",
       "    <tr>\n",
       "      <th>Date</th>\n",
       "      <th></th>\n",
       "      <th></th>\n",
       "      <th></th>\n",
       "      <th></th>\n",
       "      <th></th>\n",
       "      <th></th>\n",
       "    </tr>\n",
       "  </thead>\n",
       "  <tbody>\n",
       "    <tr>\n",
       "      <th>2020-10-05</th>\n",
       "      <td>113.321625</td>\n",
       "      <td>116.500000</td>\n",
       "      <td>116.650002</td>\n",
       "      <td>113.550003</td>\n",
       "      <td>113.910004</td>\n",
       "      <td>106243800</td>\n",
       "    </tr>\n",
       "    <tr>\n",
       "      <th>2020-10-06</th>\n",
       "      <td>110.072739</td>\n",
       "      <td>113.160004</td>\n",
       "      <td>116.120003</td>\n",
       "      <td>112.250000</td>\n",
       "      <td>115.699997</td>\n",
       "      <td>161498200</td>\n",
       "    </tr>\n",
       "    <tr>\n",
       "      <th>2020-10-07</th>\n",
       "      <td>111.940361</td>\n",
       "      <td>115.080002</td>\n",
       "      <td>115.550003</td>\n",
       "      <td>114.129997</td>\n",
       "      <td>114.620003</td>\n",
       "      <td>96849000</td>\n",
       "    </tr>\n",
       "    <tr>\n",
       "      <th>2020-10-08</th>\n",
       "      <td>111.833382</td>\n",
       "      <td>114.970001</td>\n",
       "      <td>116.400002</td>\n",
       "      <td>114.589996</td>\n",
       "      <td>116.250000</td>\n",
       "      <td>83477200</td>\n",
       "    </tr>\n",
       "    <tr>\n",
       "      <th>2020-10-09</th>\n",
       "      <td>113.778793</td>\n",
       "      <td>116.970001</td>\n",
       "      <td>117.000000</td>\n",
       "      <td>114.919998</td>\n",
       "      <td>115.279999</td>\n",
       "      <td>100506900</td>\n",
       "    </tr>\n",
       "  </tbody>\n",
       "</table>\n",
       "</div>"
      ],
      "text/plain": [
       "             Adj_Close       Close        High         Low        Open  \\\n",
       "Date                                                                     \n",
       "2020-10-05  113.321625  116.500000  116.650002  113.550003  113.910004   \n",
       "2020-10-06  110.072739  113.160004  116.120003  112.250000  115.699997   \n",
       "2020-10-07  111.940361  115.080002  115.550003  114.129997  114.620003   \n",
       "2020-10-08  111.833382  114.970001  116.400002  114.589996  116.250000   \n",
       "2020-10-09  113.778793  116.970001  117.000000  114.919998  115.279999   \n",
       "\n",
       "               Volume  \n",
       "Date                   \n",
       "2020-10-05  106243800  \n",
       "2020-10-06  161498200  \n",
       "2020-10-07   96849000  \n",
       "2020-10-08   83477200  \n",
       "2020-10-09  100506900  "
      ]
     },
     "execution_count": 11,
     "metadata": {},
     "output_type": "execute_result"
    }
   ],
   "source": [
    "# Data:\n",
    "data.info()\n",
    "data.isna().sum()\n",
    "data = data.dropna()\n",
    "data.head()"
   ]
  },
  {
   "cell_type": "markdown",
   "id": "902728d5-dce5-48d6-b33d-cfde70fa5de6",
   "metadata": {},
   "source": [
    "### Feature engineering"
   ]
  },
  {
   "cell_type": "code",
   "execution_count": 14,
   "id": "525f9587-66de-402d-83a8-e169f5c1deac",
   "metadata": {},
   "outputs": [
    {
     "data": {
      "text/html": [
       "<div>\n",
       "<style scoped>\n",
       "    .dataframe tbody tr th:only-of-type {\n",
       "        vertical-align: middle;\n",
       "    }\n",
       "\n",
       "    .dataframe tbody tr th {\n",
       "        vertical-align: top;\n",
       "    }\n",
       "\n",
       "    .dataframe thead th {\n",
       "        text-align: right;\n",
       "    }\n",
       "</style>\n",
       "<table border=\"1\" class=\"dataframe\">\n",
       "  <thead>\n",
       "    <tr style=\"text-align: right;\">\n",
       "      <th></th>\n",
       "      <th>Adj_Close</th>\n",
       "      <th>Close</th>\n",
       "      <th>High</th>\n",
       "      <th>Low</th>\n",
       "      <th>Open</th>\n",
       "      <th>Volume</th>\n",
       "      <th>lag_1</th>\n",
       "      <th>lag_2</th>\n",
       "      <th>lag_3</th>\n",
       "      <th>lag_5</th>\n",
       "      <th>lag_10</th>\n",
       "      <th>lag_20</th>\n",
       "    </tr>\n",
       "    <tr>\n",
       "      <th>Date</th>\n",
       "      <th></th>\n",
       "      <th></th>\n",
       "      <th></th>\n",
       "      <th></th>\n",
       "      <th></th>\n",
       "      <th></th>\n",
       "      <th></th>\n",
       "      <th></th>\n",
       "      <th></th>\n",
       "      <th></th>\n",
       "      <th></th>\n",
       "      <th></th>\n",
       "    </tr>\n",
       "  </thead>\n",
       "  <tbody>\n",
       "    <tr>\n",
       "      <th>2020-11-02</th>\n",
       "      <td>105.802521</td>\n",
       "      <td>108.769997</td>\n",
       "      <td>110.680000</td>\n",
       "      <td>107.320000</td>\n",
       "      <td>109.110001</td>\n",
       "      <td>122866900</td>\n",
       "      <td>105.890045</td>\n",
       "      <td>112.173805</td>\n",
       "      <td>108.166222</td>\n",
       "      <td>111.911179</td>\n",
       "      <td>112.815804</td>\n",
       "      <td>113.321625</td>\n",
       "    </tr>\n",
       "    <tr>\n",
       "      <th>2020-11-03</th>\n",
       "      <td>107.426964</td>\n",
       "      <td>110.440002</td>\n",
       "      <td>111.489998</td>\n",
       "      <td>108.730003</td>\n",
       "      <td>109.660004</td>\n",
       "      <td>107624400</td>\n",
       "      <td>105.802521</td>\n",
       "      <td>105.890045</td>\n",
       "      <td>112.173805</td>\n",
       "      <td>113.418884</td>\n",
       "      <td>114.304054</td>\n",
       "      <td>110.072739</td>\n",
       "    </tr>\n",
       "    <tr>\n",
       "      <th>2020-11-04</th>\n",
       "      <td>111.813911</td>\n",
       "      <td>114.949997</td>\n",
       "      <td>115.589996</td>\n",
       "      <td>112.349998</td>\n",
       "      <td>114.139999</td>\n",
       "      <td>138235500</td>\n",
       "      <td>107.426964</td>\n",
       "      <td>105.802521</td>\n",
       "      <td>105.890045</td>\n",
       "      <td>108.166222</td>\n",
       "      <td>113.681526</td>\n",
       "      <td>111.940361</td>\n",
       "    </tr>\n",
       "    <tr>\n",
       "      <th>2020-11-05</th>\n",
       "      <td>115.782578</td>\n",
       "      <td>119.029999</td>\n",
       "      <td>119.620003</td>\n",
       "      <td>116.870003</td>\n",
       "      <td>117.949997</td>\n",
       "      <td>126387100</td>\n",
       "      <td>111.813911</td>\n",
       "      <td>107.426964</td>\n",
       "      <td>105.802521</td>\n",
       "      <td>112.173805</td>\n",
       "      <td>112.592087</td>\n",
       "      <td>111.833382</td>\n",
       "    </tr>\n",
       "    <tr>\n",
       "      <th>2020-11-06</th>\n",
       "      <td>115.651077</td>\n",
       "      <td>118.690002</td>\n",
       "      <td>119.199997</td>\n",
       "      <td>116.129997</td>\n",
       "      <td>118.320000</td>\n",
       "      <td>114457900</td>\n",
       "      <td>115.782578</td>\n",
       "      <td>111.813911</td>\n",
       "      <td>107.426964</td>\n",
       "      <td>105.890045</td>\n",
       "      <td>111.901459</td>\n",
       "      <td>113.778793</td>\n",
       "    </tr>\n",
       "  </tbody>\n",
       "</table>\n",
       "</div>"
      ],
      "text/plain": [
       "             Adj_Close       Close        High         Low        Open  \\\n",
       "Date                                                                     \n",
       "2020-11-02  105.802521  108.769997  110.680000  107.320000  109.110001   \n",
       "2020-11-03  107.426964  110.440002  111.489998  108.730003  109.660004   \n",
       "2020-11-04  111.813911  114.949997  115.589996  112.349998  114.139999   \n",
       "2020-11-05  115.782578  119.029999  119.620003  116.870003  117.949997   \n",
       "2020-11-06  115.651077  118.690002  119.199997  116.129997  118.320000   \n",
       "\n",
       "               Volume       lag_1       lag_2       lag_3       lag_5  \\\n",
       "Date                                                                    \n",
       "2020-11-02  122866900  105.890045  112.173805  108.166222  111.911179   \n",
       "2020-11-03  107624400  105.802521  105.890045  112.173805  113.418884   \n",
       "2020-11-04  138235500  107.426964  105.802521  105.890045  108.166222   \n",
       "2020-11-05  126387100  111.813911  107.426964  105.802521  112.173805   \n",
       "2020-11-06  114457900  115.782578  111.813911  107.426964  105.890045   \n",
       "\n",
       "                lag_10      lag_20  \n",
       "Date                                \n",
       "2020-11-02  112.815804  113.321625  \n",
       "2020-11-03  114.304054  110.072739  \n",
       "2020-11-04  113.681526  111.940361  \n",
       "2020-11-05  112.592087  111.833382  \n",
       "2020-11-06  111.901459  113.778793  "
      ]
     },
     "execution_count": 14,
     "metadata": {},
     "output_type": "execute_result"
    }
   ],
   "source": [
    "\n",
    "# To be sure that the data chronogically ordered: \n",
    "data = data.sort_values('Date')\n",
    "\n",
    "# Creating multiple lag features\n",
    "lags = [1, 2, 3, 5, 10, 20]\n",
    "for lag in lags:\n",
    "    data[f'lag_{lag}'] = data['Adj_Close'].shift(lag)\n",
    "\n",
    "# Drop NaN from early rows appeared due to the lag features.\n",
    "data = data.dropna()\n",
    "data.head()"
   ]
  },
  {
   "cell_type": "markdown",
   "id": "33bf6b15-2033-4f16-8d34-784afacdfbd3",
   "metadata": {},
   "source": [
    "#### Preparing features and target, split data: "
   ]
  },
  {
   "cell_type": "code",
   "execution_count": 17,
   "id": "31e5f50c-9a81-4fbc-9a7a-17580d088489",
   "metadata": {},
   "outputs": [
    {
     "name": "stdout",
     "output_type": "stream",
     "text": [
      "Train: 988, Val: 123, Test: 124\n"
     ]
    }
   ],
   "source": [
    "# Features, target — NEXT DAY RETURN\n",
    "\n",
    "# Target: next-day price (in dollars)\n",
    "data['target'] = data['Adj_Close'].shift(-1)\n",
    "\n",
    "# Drop NaN rows\n",
    "data = data.dropna()\n",
    "\n",
    "# Define features and target\n",
    "X = data[[f'lag_{lag}' for lag in lags]]\n",
    "y = data['target']\n",
    "\n",
    "# splitting\n",
    "train_end = int(len(data) * 0.8)              # 80% for training\n",
    "val_end = int(len(data) * 0.9)                # next 10% for validation\n",
    "\n",
    "X_train, y_train = X.iloc[:train_end], y.iloc[:train_end]\n",
    "X_val, y_val = X.iloc[train_end:val_end], y.iloc[train_end:val_end]\n",
    "X_test, y_test = X.iloc[val_end:], y.iloc[val_end:]\n",
    "\n",
    "print(f\"Train: {len(X_train)}, Val: {len(X_val)}, Test: {len(X_test)}\")\n"
   ]
  },
  {
   "cell_type": "markdown",
   "id": "57393cdf-a773-4f44-9fc7-43a389579430",
   "metadata": {},
   "source": [
    "## RandomForest model"
   ]
  },
  {
   "cell_type": "code",
   "execution_count": 20,
   "id": "c989f534-3560-445e-8cc4-f9aef352d8b4",
   "metadata": {},
   "outputs": [
    {
     "name": "stdout",
     "output_type": "stream",
     "text": [
      "\n",
      "Validation RMSE: $16.36\n",
      "Validation MAE:  $13.18\n"
     ]
    }
   ],
   "source": [
    "# Predict on validation data\n",
    "\n",
    "model = RandomForestRegressor(n_estimators=200, random_state=42)\n",
    "model.fit(X_train, y_train)\n",
    "\n",
    "#  Evaluate on validation set\n",
    "\n",
    "y_pred_val = model.predict(X_val)\n",
    "\n",
    "rmse_val = sqrt(mean_squared_error(y_val, y_pred_val))\n",
    "mae_val = mean_absolute_error(y_val, y_pred_val)\n",
    "\n",
    "print(f\"\\nValidation RMSE: ${rmse_val:.2f}\")\n",
    "print(f\"Validation MAE:  ${mae_val:.2f}\")\n"
   ]
  },
  {
   "cell_type": "markdown",
   "id": "0fe2d114-0009-4b66-aec4-8cfe668b39e9",
   "metadata": {},
   "source": [
    "### Hyperparameter tuning for optimization\n"
   ]
  },
  {
   "cell_type": "code",
   "execution_count": 23,
   "id": "30002d82-6154-47ed-a74b-8118efdd325b",
   "metadata": {},
   "outputs": [
    {
     "name": "stdout",
     "output_type": "stream",
     "text": [
      "\n",
      "Best Parameters: {'max_depth': 5, 'min_samples_split': 10, 'n_estimators': 500}\n",
      "Best CV MAE:  10.0782703529597\n"
     ]
    }
   ],
   "source": [
    "tscv = TimeSeriesSplit(n_splits=5)\n",
    "param_grid = {\n",
    "    'n_estimators': [100, 200, 500],\n",
    "    'max_depth': [5, 10, None],\n",
    "    'min_samples_split': [2, 5, 10]\n",
    "}\n",
    "\n",
    "grid = GridSearchCV(\n",
    "    RandomForestRegressor(random_state=42),\n",
    "    param_grid,\n",
    "    cv=tscv,\n",
    "    scoring='neg_mean_absolute_error',\n",
    "    n_jobs=-1\n",
    ")\n",
    "grid.fit(X_train, y_train)\n",
    "\n",
    "print(\"\\nBest Parameters:\", grid.best_params_)\n",
    "print(\"Best CV MAE: \", -grid.best_score_)\n",
    "\n",
    "best_rf = grid.best_estimator_\n"
   ]
  },
  {
   "cell_type": "code",
   "execution_count": 25,
   "id": "9317ca39-6c80-4d76-8b35-e2915c1b745a",
   "metadata": {},
   "outputs": [
    {
     "name": "stdout",
     "output_type": "stream",
     "text": [
      "\n",
      "Tuned Validation RMSE: $16.73\n",
      "Tuned Validation MAE:  $13.51\n"
     ]
    }
   ],
   "source": [
    "# Evaluate tuned model on validation\n",
    "\n",
    "y_pred_val_best = best_rf.predict(X_val)\n",
    "\n",
    "rmse_val_best = sqrt(mean_squared_error(y_val, y_pred_val_best))\n",
    "mae_val_best = mean_absolute_error(y_val, y_pred_val_best)\n",
    "\n",
    "print(f\"\\nTuned Validation RMSE: ${rmse_val_best:.2f}\")\n",
    "print(f\"Tuned Validation MAE:  ${mae_val_best:.2f}\")\n"
   ]
  },
  {
   "cell_type": "code",
   "execution_count": 27,
   "id": "2d1aa16b-78dd-4813-a839-68eac5356645",
   "metadata": {},
   "outputs": [
    {
     "name": "stdout",
     "output_type": "stream",
     "text": [
      "\n",
      "Final Test RMSE: $8.076\n",
      "Final Test MAE:  $6.451\n"
     ]
    }
   ],
   "source": [
    "# Retrain on (train + val) and evaluate on test\n",
    "\n",
    "X_trainval = pd.concat([X_train, X_val])\n",
    "y_trainval = pd.concat([y_train, y_val])\n",
    "\n",
    "best_rf.fit(X_trainval, y_trainval)\n",
    "\n",
    "y_pred_test = best_rf.predict(X_test)\n",
    "\n",
    "rmse_test = sqrt(mean_squared_error(y_test, y_pred_test))\n",
    "mae_test = mean_absolute_error(y_test, y_pred_test)\n",
    "\n",
    "print(f\"\\nFinal Test RMSE: ${rmse_test:.3f}\")\n",
    "print(f\"Final Test MAE:  ${mae_test:.3f}\")\n"
   ]
  },
  {
   "cell_type": "code",
   "execution_count": 29,
   "id": "8cc895dc-af64-4286-9d4c-1f1cda43e6ee",
   "metadata": {},
   "outputs": [
    {
     "data": {
      "image/png": "[encoded data removed]",
      "text/plain": [
       "<Figure size 800x500 with 1 Axes>"
      ]
     },
     "metadata": {},
     "output_type": "display_data"
    }
   ],
   "source": [
    "\n",
    "# Plot actual vs predicted prices\n",
    "\n",
    "plt.figure(figsize=(8,5))\n",
    "plt.plot(y_test.values, label=\"Actual\", color='blue')\n",
    "plt.plot(y_pred_test, label=\"Predicted\", color='orange')\n",
    "plt.title(\"AAPL RandomForest — Next-Day Adj Close Prediction ($)\")\n",
    "plt.xlabel(\"Days (Test Period)\")\n",
    "plt.ylabel(\"Price ($)\")\n",
    "plt.legend()\n",
    "plt.show()"
   ]
  },
  {
   "cell_type": "markdown",
   "id": "bf575d89-68b7-43e0-9486-0640bc49fe08",
   "metadata": {},
   "source": [
    "## XGBoost model"
   ]
  },
  {
   "cell_type": "code",
   "execution_count": 32,
   "id": "2c994871-14ed-434f-90eb-43dabc887164",
   "metadata": {},
   "outputs": [
    {
     "name": "stdout",
     "output_type": "stream",
     "text": [
      "Baseline XGBoost:\n",
      "\n",
      "Validation: \n",
      "RMSE: 21.657330, \n",
      "MAE: 18.238\n",
      "\n",
      "Test: \n",
      "RMSE: 15.740593, \n",
      "MAE: 11.182\n"
     ]
    }
   ],
   "source": [
    "\n",
    "# Baseline XGBoost Model (no tuning yet)\n",
    "# -------------------------------------\n",
    "from xgboost import XGBRegressor\n",
    "\n",
    "xgb_base = XGBRegressor(\n",
    "    objective='reg:squarederror',\n",
    "    random_state=42,\n",
    "    n_estimators=200,\n",
    "    learning_rate=0.1,\n",
    "    max_depth=5\n",
    ")\n",
    "\n",
    "xgb_base.fit(X_train, y_train)\n",
    "\n",
    "# Validation predictions\n",
    "y_pred_val_xgb_base = xgb_base.predict(X_val)\n",
    "rmse_val_xgb_base = np.sqrt(mean_squared_error(y_val, y_pred_val_xgb_base))\n",
    "mae_val_xgb_base = mean_absolute_error(y_val, y_pred_val_xgb_base)\n",
    "\n",
    "# Test predictions\n",
    "y_pred_test_xgb_base = xgb_base.predict(X_test)\n",
    "rmse_test_xgb_base = np.sqrt(mean_squared_error(y_test, y_pred_test_xgb_base))\n",
    "mae_test_xgb_base = mean_absolute_error(y_test, y_pred_test_xgb_base)\n",
    "\n",
    "print(\"Baseline XGBoost:\")\n",
    "print(f\"\\nValidation: \\nRMSE: {rmse_val_xgb_base:.6f}, \\nMAE: {mae_val_xgb_base:.3f}\")\n",
    "print(f\"\\nTest: \\nRMSE: {rmse_test_xgb_base:.6f}, \\nMAE: {mae_test_xgb_base:.3f}\")\n",
    "\n"
   ]
  },
  {
   "cell_type": "markdown",
   "id": "5fdc8152-f777-47b9-b9d5-7b822b57817d",
   "metadata": {},
   "source": [
    "### Hyperparameter tuning"
   ]
  },
  {
   "cell_type": "code",
   "execution_count": 35,
   "id": "c14e8ac3-dc66-46e9-aa9b-6286a439867b",
   "metadata": {},
   "outputs": [
    {
     "name": "stdout",
     "output_type": "stream",
     "text": [
      "Fitting 5 folds for each of 108 candidates, totalling 540 fits\n",
      "\n",
      "Best Parameters: {'colsample_bytree': 0.8, 'learning_rate': 0.1, 'max_depth': 3, 'n_estimators': 200, 'subsample': 0.8}\n",
      "Best CV MAE: 10.603254988135362\n"
     ]
    }
   ],
   "source": [
    "\n",
    "# Hyperparameter Tuning with GridSearchCV\n",
    "\n",
    "tscv = TimeSeriesSplit(n_splits=5)\n",
    "\n",
    "param_grid_xgb = {\n",
    "    'n_estimators': [100, 200, 500],\n",
    "    'max_depth': [3, 5, 7],\n",
    "    'learning_rate': [0.01, 0.05, 0.1],\n",
    "    'subsample': [0.8, 1.0],\n",
    "    'colsample_bytree': [0.8, 1.0]\n",
    "}\n",
    "\n",
    "grid_xgb = GridSearchCV(\n",
    "    estimator=XGBRegressor(objective='reg:squarederror', random_state=42),\n",
    "    param_grid=param_grid_xgb,\n",
    "    cv=tscv,\n",
    "    scoring='neg_mean_absolute_error',\n",
    "    n_jobs=-1,\n",
    "    verbose=1\n",
    ")\n",
    "\n",
    "grid_xgb.fit(X_train, y_train)\n",
    "\n",
    "print(\"\\nBest Parameters:\", grid_xgb.best_params_)\n",
    "print(\"Best CV MAE:\", -grid_xgb.best_score_)\n",
    "\n",
    "xgb_best = grid_xgb.best_estimator_\n"
   ]
  },
  {
   "cell_type": "code",
   "execution_count": 37,
   "id": "7900e015-128b-4264-97b0-b185cd59c617",
   "metadata": {},
   "outputs": [
    {
     "name": "stdout",
     "output_type": "stream",
     "text": [
      "\n",
      "Tuned XGBoost Validation:\n",
      "RMSE (Val): 16.722\n",
      "MAE (Val):  13.469\n"
     ]
    }
   ],
   "source": [
    "\n",
    "# Evaluate on Validation Set\n",
    "\n",
    "y_pred_val_xgb_tuned = xgb_best.predict(X_val)\n",
    "rmse_val_xgb_tuned = np.sqrt(mean_squared_error(y_val, y_pred_val_xgb_tuned))\n",
    "mae_val_xgb_tuned = mean_absolute_error(y_val, y_pred_val_xgb_tuned)\n",
    "\n",
    "print(\"\\nTuned XGBoost Validation:\")\n",
    "print(f\"RMSE (Val): {rmse_val_xgb_tuned:.3f}\")\n",
    "print(f\"MAE (Val):  {mae_val_xgb_tuned:.3f}\")"
   ]
  },
  {
   "cell_type": "code",
   "execution_count": 39,
   "id": "cfe2d048-eaf0-49a8-859b-635706710d0f",
   "metadata": {},
   "outputs": [
    {
     "name": "stdout",
     "output_type": "stream",
     "text": [
      "\n",
      "Final Tuned XGBoost Test Results:\n",
      "RMSE (Test): 7.214\n",
      "MAE (Test):  5.653\n"
     ]
    }
   ],
   "source": [
    "\n",
    "# Retrain on (Train + Val) and Test Evaluation\n",
    "\n",
    "X_trainval_xgb = pd.concat([X_train, X_val])\n",
    "y_trainval_xgb = pd.concat([y_train, y_val])\n",
    "\n",
    "xgb_best.fit(X_trainval_xgb, y_trainval_xgb)\n",
    "\n",
    "y_pred_test_xgb_tuned = xgb_best.predict(X_test)\n",
    "rmse_test_xgb_tuned = np.sqrt(mean_squared_error(y_test, y_pred_test_xgb_tuned))\n",
    "mae_test_xgb_tuned = mean_absolute_error(y_test, y_pred_test_xgb_tuned)\n",
    "\n",
    "print(\"\\nFinal Tuned XGBoost Test Results:\")\n",
    "print(f\"RMSE (Test): {rmse_test_xgb_tuned:.3f}\")\n",
    "print(f\"MAE (Test):  {mae_test_xgb_tuned:.3f}\")\n"
   ]
  },
  {
   "cell_type": "code",
   "execution_count": 41,
   "id": "b022c9b7-9f77-4372-9b1e-3deb7d3cbc0f",
   "metadata": {},
   "outputs": [
    {
     "data": {
      "image/png": "[encoded data removed]",
      "text/plain": [
       "<Figure size 800x500 with 1 Axes>"
      ]
     },
     "metadata": {},
     "output_type": "display_data"
    }
   ],
   "source": [
    "\n",
    "# Plot actual vs predicted prices\n",
    "\n",
    "plt.figure(figsize=(8,5))\n",
    "plt.plot(y_test.values, label=\"Actual\", color='blue')\n",
    "plt.plot(y_pred_test_xgb_tuned, label=\"Predicted\", color='orange')\n",
    "plt.title(\"AAPL XGBoost — Next-Day Adj Close Prediction ($)\")\n",
    "plt.xlabel(\"Days (Test Period)\")\n",
    "plt.ylabel(\"Price ($)\")\n",
    "plt.legend()\n",
    "plt.show()"
   ]
  },
  {
   "cell_type": "code",
   "execution_count": 43,
   "id": "d83db9b8-2772-4135-b863-b3642cff77ab",
   "metadata": {},
   "outputs": [
    {
     "data": {
      "image/png": "[encoded data removed]",
      "text/plain": [
       "<Figure size 600x400 with 1 Axes>"
      ]
     },
     "metadata": {},
     "output_type": "display_data"
    }
   ],
   "source": [
    "# to check which lags are important: \n",
    "\n",
    "importances = xgb_best.feature_importances_\n",
    "plt.figure(figsize=(6,4))\n",
    "plt.bar(range(len(importances)), importances, tick_label=[f'lag_{l}' for l in [1,2,3,5,10,20]])\n",
    "plt.title(\"XGBoost Feature Importance (Lag Features)\")\n",
    "plt.ylabel(\"Importance\")\n",
    "plt.show()"
   ]
  },
  {
   "cell_type": "markdown",
   "id": "c2e3ac82-1bd4-461e-8134-e0bae4c921bd",
   "metadata": {},
   "source": [
    "## Conclusions.\n",
    "\n",
    "#### Both RandomForest and XGBoost show better performance than SARIMA TSA model. Also, XGBoost model shows slightly better performance compared to RandomForest model:\n",
    "\n",
    "#### Final Tuned RandomForest Test Results:  \n",
    "Final Test RMSE: 8.076  \n",
    "Final Test MAE:  6.451\n",
    "\n",
    "#### Final Tuned XGBoost Test Results:  \n",
    "RMSE (Test): 7.214  \n",
    "MAE (Test):  5.653"
   ]
  },
  {
   "cell_type": "code",
   "execution_count": null,
   "id": "048ef5aa-6904-40db-b10e-518098e4b48d",
   "metadata": {},
   "outputs": [],
   "source": []
  }
 ],
 "metadata": {
  "kernelspec": {
   "display_name": "Python (tf_base)",
   "language": "python",
   "name": "tf_base"
  },
  "language_info": {
   "codemirror_mode": {
    "name": "ipython",
    "version": 3
   },
   "file_extension": ".py",
   "mimetype": "text/x-python",
   "name": "python",
   "nbconvert_exporter": "python",
   "pygments_lexer": "ipython3",
   "version": "3.12.4"
  }
 },
 "nbformat": 4,
 "nbformat_minor": 5
}
