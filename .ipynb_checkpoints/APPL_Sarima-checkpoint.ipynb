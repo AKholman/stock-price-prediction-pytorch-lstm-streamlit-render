{
 "cells": [
  {
   "cell_type": "markdown",
   "id": "2aed08ed-7db8-4b77-8da8-a5132c3dccc2",
   "metadata": {},
   "source": [
    "<center><h1> Daily AAPL Stock Price Forecasting</h1></center>  \n",
    "\n",
    "Goal: Predict next-day close price for AAPL stock (daily regression)\n",
    "Dataset: Daily OHLCV from Yahoo Finance, last 5 years ((last day - Oct_03, 2025) (~1250 rows)\n",
    "Model: SARIMA/Auto-SARIMA\n"
   ]
  },
  {
   "cell_type": "code",
   "execution_count": 3,
   "id": "17c2b1f9-6b86-4c79-87ef-c25ccdcf2024",
   "metadata": {},
   "outputs": [],
   "source": [
    "#import yfinance as yf\n",
    "import pandas as pd\n",
    "import numpy as np\n",
    "import matplotlib.pyplot as plt\n",
    "from statsmodels.tsa.statespace.sarimax import SARIMAX\n",
    "from sklearn.metrics import mean_squared_error, mean_absolute_error\n",
    "from math import sqrt\n",
    "from pmdarima import auto_arima\n"
   ]
  },
  {
   "cell_type": "markdown",
   "id": "714e9a06-78e4-469d-8780-05b423114bb5",
   "metadata": {},
   "source": [
    "## 1. Loading data"
   ]
  },
  {
   "cell_type": "code",
   "execution_count": 6,
   "id": "04d423d6-5e36-4921-b062-2ace8bdeb6f3",
   "metadata": {},
   "outputs": [],
   "source": [
    "\n",
    "#data = yf.download(\"AAPL\", period=\"5y\", interval=\"1d\", auto_adjust=False)\n",
    "\n",
    "# saving the downloaded (on Oct_03, 2025) as csv file locally\n",
    "# Flatten columns if they are multi-index\n",
    "#if isinstance(data.columns, pd.MultiIndex):\n",
    "#    # Keep only the second level (the actual data columns)\n",
    "#data.columns = [col[0] if col[1] == 'AAPL' else col[1] for col in data.columns]\n",
    "#data.to_csv(\"AAPL_5y_daily.csv\") "
   ]
  },
  {
   "cell_type": "code",
   "execution_count": 8,
   "id": "d6dcaec4-b000-47f1-9bee-05ec1e67eebc",
   "metadata": {},
   "outputs": [
    {
     "data": {
      "text/html": [
       "<div>\n",
       "<style scoped>\n",
       "    .dataframe tbody tr th:only-of-type {\n",
       "        vertical-align: middle;\n",
       "    }\n",
       "\n",
       "    .dataframe tbody tr th {\n",
       "        vertical-align: top;\n",
       "    }\n",
       "\n",
       "    .dataframe thead th {\n",
       "        text-align: right;\n",
       "    }\n",
       "</style>\n",
       "<table border=\"1\" class=\"dataframe\">\n",
       "  <thead>\n",
       "    <tr style=\"text-align: right;\">\n",
       "      <th></th>\n",
       "      <th>Adj_Close</th>\n",
       "      <th>Close</th>\n",
       "      <th>High</th>\n",
       "      <th>Low</th>\n",
       "      <th>Open</th>\n",
       "      <th>Volume</th>\n",
       "    </tr>\n",
       "    <tr>\n",
       "      <th>Date</th>\n",
       "      <th></th>\n",
       "      <th></th>\n",
       "      <th></th>\n",
       "      <th></th>\n",
       "      <th></th>\n",
       "      <th></th>\n",
       "    </tr>\n",
       "  </thead>\n",
       "  <tbody>\n",
       "    <tr>\n",
       "      <th>2025-09-29</th>\n",
       "      <td>254.429993</td>\n",
       "      <td>254.429993</td>\n",
       "      <td>255.000000</td>\n",
       "      <td>253.009995</td>\n",
       "      <td>254.559998</td>\n",
       "      <td>40127700</td>\n",
       "    </tr>\n",
       "    <tr>\n",
       "      <th>2025-09-30</th>\n",
       "      <td>254.630005</td>\n",
       "      <td>254.630005</td>\n",
       "      <td>255.919998</td>\n",
       "      <td>253.110001</td>\n",
       "      <td>254.860001</td>\n",
       "      <td>37704300</td>\n",
       "    </tr>\n",
       "    <tr>\n",
       "      <th>2025-10-01</th>\n",
       "      <td>255.449997</td>\n",
       "      <td>255.449997</td>\n",
       "      <td>258.790009</td>\n",
       "      <td>254.929993</td>\n",
       "      <td>255.039993</td>\n",
       "      <td>48713900</td>\n",
       "    </tr>\n",
       "    <tr>\n",
       "      <th>2025-10-02</th>\n",
       "      <td>257.130005</td>\n",
       "      <td>257.130005</td>\n",
       "      <td>258.179993</td>\n",
       "      <td>254.149994</td>\n",
       "      <td>256.579987</td>\n",
       "      <td>42630200</td>\n",
       "    </tr>\n",
       "    <tr>\n",
       "      <th>2025-10-03</th>\n",
       "      <td>258.019989</td>\n",
       "      <td>258.019989</td>\n",
       "      <td>259.239990</td>\n",
       "      <td>253.949997</td>\n",
       "      <td>254.669998</td>\n",
       "      <td>49107000</td>\n",
       "    </tr>\n",
       "  </tbody>\n",
       "</table>\n",
       "</div>"
      ],
      "text/plain": [
       "             Adj_Close       Close        High         Low        Open  \\\n",
       "Date                                                                     \n",
       "2025-09-29  254.429993  254.429993  255.000000  253.009995  254.559998   \n",
       "2025-09-30  254.630005  254.630005  255.919998  253.110001  254.860001   \n",
       "2025-10-01  255.449997  255.449997  258.790009  254.929993  255.039993   \n",
       "2025-10-02  257.130005  257.130005  258.179993  254.149994  256.579987   \n",
       "2025-10-03  258.019989  258.019989  259.239990  253.949997  254.669998   \n",
       "\n",
       "              Volume  \n",
       "Date                  \n",
       "2025-09-29  40127700  \n",
       "2025-09-30  37704300  \n",
       "2025-10-01  48713900  \n",
       "2025-10-02  42630200  \n",
       "2025-10-03  49107000  "
      ]
     },
     "execution_count": 8,
     "metadata": {},
     "output_type": "execute_result"
    }
   ],
   "source": [
    "# downloaded data from csv file\n",
    "data = pd.read_csv(\"AAPL_5y_daily.csv\", index_col=[0], parse_dates=True)\n",
    "data = data.rename(columns={'Adj Close': 'Adj_Close'})\n",
    "data.tail()"
   ]
  },
  {
   "cell_type": "code",
   "execution_count": 10,
   "id": "905b8cf8-7638-498a-b553-2009129e73cf",
   "metadata": {},
   "outputs": [
    {
     "name": "stdout",
     "output_type": "stream",
     "text": [
      "<class 'pandas.core.frame.DataFrame'>\n",
      "DatetimeIndex: 1256 entries, 2020-10-05 to 2025-10-03\n",
      "Data columns (total 6 columns):\n",
      " #   Column     Non-Null Count  Dtype  \n",
      "---  ------     --------------  -----  \n",
      " 0   Adj_Close  1256 non-null   float64\n",
      " 1   Close      1256 non-null   float64\n",
      " 2   High       1256 non-null   float64\n",
      " 3   Low        1256 non-null   float64\n",
      " 4   Open       1256 non-null   float64\n",
      " 5   Volume     1256 non-null   int64  \n",
      "dtypes: float64(5), int64(1)\n",
      "memory usage: 68.7 KB\n",
      "Adj_Close    0\n",
      "Close        0\n",
      "High         0\n",
      "Low          0\n",
      "Open         0\n",
      "Volume       0\n",
      "dtype: int64\n",
      "0\n",
      "0\n",
      "datetime64[ns]\n"
     ]
    }
   ],
   "source": [
    "data.info()\n",
    "print(data.isna().sum())\n",
    "print(data.duplicated().sum())\n",
    "print(data['Adj_Close'].isna().sum())\n",
    "print(data.index.dtype)"
   ]
  },
  {
   "cell_type": "code",
   "execution_count": 12,
   "id": "7790b77f-44bd-4152-8edb-7d4d70ca302e",
   "metadata": {},
   "outputs": [
    {
     "name": "stdout",
     "output_type": "stream",
     "text": [
      "Train: 1004, Validation: 125, Test: 127\n"
     ]
    }
   ],
   "source": [
    "# We use only the adjusted close price - 'Adj_Close' column:\n",
    "\n",
    "ts = data['Adj_Close'].dropna()\n",
    "\n",
    "# Split into 80:10:10 ratio\n",
    "train_size = int(len(ts) * 0.8)\n",
    "val_size = int(len(ts) * 0.1)\n",
    "\n",
    "train = ts[:train_size]\n",
    "val = ts[train_size:train_size + val_size]\n",
    "test = ts[train_size + val_size:]\n",
    "\n",
    "print(f\"Train: {len(train)}, Validation: {len(val)}, Test: {len(test)}\")"
   ]
  },
  {
   "cell_type": "code",
   "execution_count": 14,
   "id": "dc590b62-4adb-484c-be51-1d1a93ee6b63",
   "metadata": {},
   "outputs": [
    {
     "data": {
      "image/png": "[encoded data removed]",
      "text/plain": [
       "<Figure size 1000x500 with 1 Axes>"
      ]
     },
     "metadata": {},
     "output_type": "display_data"
    }
   ],
   "source": [
    "plt.figure(figsize=(10,5))\n",
    "plt.plot(train, label='Training Data')\n",
    "plt.title('Stock Price (Adj Close)')\n",
    "plt.legend()\n",
    "plt.show()"
   ]
  },
  {
   "cell_type": "markdown",
   "id": "211c71b0-e3df-40e6-be2f-1717449087be",
   "metadata": {},
   "source": [
    "### The above shown plot indicates the non-stationary behavior. Below we will chest the stationarity with Augmented Dickey-Fuller"
   ]
  },
  {
   "cell_type": "code",
   "execution_count": 17,
   "id": "e3c2c6d6-f15e-4c5a-bea7-0053cb3e95ef",
   "metadata": {},
   "outputs": [
    {
     "name": "stdout",
     "output_type": "stream",
     "text": [
      "ADF Statistic: -0.9885403610224454\n",
      "p-value: 0.7574209605728599\n"
     ]
    }
   ],
   "source": [
    "from statsmodels.tsa.stattools import adfuller\n",
    "\n",
    "result = adfuller(ts)\n",
    "print('ADF Statistic:', result[0])\n",
    "print('p-value:', result[1])"
   ]
  },
  {
   "cell_type": "markdown",
   "id": "ae343436-d4ae-4cf1-8b33-183e7c1b5912",
   "metadata": {},
   "source": [
    "#### p-value > 0.05, we cannot reject the null hyphothesis (non-stationary). The series is non-stationary. In order SARIMA handles the non-stationairt internally we provide: model = SARIMAX(ts, order=(2,1,2), seasonal_order=(0,0,0,0))"
   ]
  },
  {
   "cell_type": "code",
   "execution_count": 20,
   "id": "661a32c8-4dc7-4516-8a7a-634a71b2c5c1",
   "metadata": {},
   "outputs": [
    {
     "name": "stderr",
     "output_type": "stream",
     "text": [
      "/opt/anaconda3/lib/python3.12/site-packages/statsmodels/tsa/base/tsa_model.py:473: ValueWarning: A date index has been provided, but it has no associated frequency information and so will be ignored when e.g. forecasting.\n",
      "  self._init_dates(dates, freq)\n",
      "/opt/anaconda3/lib/python3.12/site-packages/statsmodels/tsa/base/tsa_model.py:473: ValueWarning: A date index has been provided, but it has no associated frequency information and so will be ignored when e.g. forecasting.\n",
      "  self._init_dates(dates, freq)\n"
     ]
    },
    {
     "name": "stdout",
     "output_type": "stream",
     "text": [
      "Validation RMSE: 13.067\n",
      "Validation MAE: 10.217\n"
     ]
    },
    {
     "name": "stderr",
     "output_type": "stream",
     "text": [
      "/opt/anaconda3/lib/python3.12/site-packages/statsmodels/tsa/base/tsa_model.py:836: ValueWarning: No supported index is available. Prediction results will be given with an integer index beginning at `start`.\n",
      "  return get_prediction_index(\n",
      "/opt/anaconda3/lib/python3.12/site-packages/statsmodels/tsa/base/tsa_model.py:836: FutureWarning: No supported index is available. In the next version, calling this method in a model without a supported index will result in an exception.\n",
      "  return get_prediction_index(\n"
     ]
    }
   ],
   "source": [
    "\n",
    "# Fit the model on the training set\n",
    "model = SARIMAX(train, order=(2, 1, 2), seasonal_order=(0, 0, 0, 0))\n",
    "sarima_fit = model.fit(disp=False)\n",
    "#print(sarima_fit.summary())\n",
    "\n",
    "# Forecast for the validation period\n",
    "n_val = len(val)\n",
    "val_pred = sarima_fit.forecast(steps=n_val)\n",
    "\n",
    "# Evaluate validation performance\n",
    "\n",
    "rmse_val = np.sqrt(mean_squared_error(val, val_pred))\n",
    "mae_val = mean_absolute_error(val, val_pred)\n",
    "\n",
    "print(f\"Validation RMSE: {rmse_val:.3f}\")\n",
    "print(f\"Validation MAE: {mae_val:.3f}\")\n"
   ]
  },
  {
   "cell_type": "code",
   "execution_count": 22,
   "id": "cf9d0c44-e776-4a1b-b26e-3a2d3be36e75",
   "metadata": {},
   "outputs": [
    {
     "name": "stderr",
     "output_type": "stream",
     "text": [
      "/opt/anaconda3/lib/python3.12/site-packages/statsmodels/tsa/base/tsa_model.py:473: ValueWarning: A date index has been provided, but it has no associated frequency information and so will be ignored when e.g. forecasting.\n",
      "  self._init_dates(dates, freq)\n",
      "/opt/anaconda3/lib/python3.12/site-packages/statsmodels/tsa/base/tsa_model.py:473: ValueWarning: A date index has been provided, but it has no associated frequency information and so will be ignored when e.g. forecasting.\n",
      "  self._init_dates(dates, freq)\n"
     ]
    },
    {
     "name": "stdout",
     "output_type": "stream",
     "text": [
      "Test RMSE: 20.152\n",
      "Test MAE: 18.030\n"
     ]
    },
    {
     "name": "stderr",
     "output_type": "stream",
     "text": [
      "/opt/anaconda3/lib/python3.12/site-packages/statsmodels/tsa/base/tsa_model.py:836: ValueWarning: No supported index is available. Prediction results will be given with an integer index beginning at `start`.\n",
      "  return get_prediction_index(\n",
      "/opt/anaconda3/lib/python3.12/site-packages/statsmodels/tsa/base/tsa_model.py:836: FutureWarning: No supported index is available. In the next version, calling this method in a model without a supported index will result in an exception.\n",
      "  return get_prediction_index(\n"
     ]
    }
   ],
   "source": [
    "# Refit on (train + val)\n",
    "train_val = pd.concat([train, val])\n",
    "model_final = SARIMAX(train_val, order=(2, 1, 2), seasonal_order=(0, 0, 0, 0))\n",
    "fit_final = model_final.fit(disp=False)\n",
    "\n",
    "# Forecast on test set\n",
    "n_test = len(test)\n",
    "test_pred = fit_final.forecast(steps=n_test)\n",
    "\n",
    "# Evaluate on test set\n",
    "rmse_test = np.sqrt(mean_squared_error(test, test_pred))\n",
    "mae_test = mean_absolute_error(test, test_pred)\n",
    "\n",
    "print(f\"Test RMSE: {rmse_test:.3f}\")\n",
    "print(f\"Test MAE: {mae_test:.3f}\")"
   ]
  },
  {
   "cell_type": "markdown",
   "id": "e56e5f9d-7e0e-4520-b3e8-6712f53fce67",
   "metadata": {},
   "source": [
    "## AUTO_ARIMA()"
   ]
  },
  {
   "cell_type": "code",
   "execution_count": 25,
   "id": "4a6afe6c-f609-447e-842e-3add90ac6576",
   "metadata": {},
   "outputs": [
    {
     "name": "stdout",
     "output_type": "stream",
     "text": [
      "Performing stepwise search to minimize aic\n",
      " ARIMA(2,1,2)(0,0,0)[0] intercept   : AIC=4837.461, Time=0.42 sec\n",
      " ARIMA(0,1,0)(0,0,0)[0] intercept   : AIC=4831.963, Time=0.02 sec\n",
      " ARIMA(1,1,0)(0,0,0)[0] intercept   : AIC=4833.872, Time=0.06 sec\n",
      " ARIMA(0,1,1)(0,0,0)[0] intercept   : AIC=4833.864, Time=0.07 sec\n",
      " ARIMA(0,1,0)(0,0,0)[0]             : AIC=4831.691, Time=0.02 sec\n",
      " ARIMA(1,1,1)(0,0,0)[0] intercept   : AIC=inf, Time=0.90 sec\n",
      "\n",
      "Best model:  ARIMA(0,1,0)(0,0,0)[0]          \n",
      "Total fit time: 1.534 seconds\n"
     ]
    }
   ],
   "source": [
    "auto_model = auto_arima(train,\n",
    "                        seasonal=False,   # Set True if weekly/monthly pattern exists\n",
    "                        trace=True,\n",
    "                        error_action='ignore',\n",
    "                        suppress_warnings=True,\n",
    "                        stepwise=True)\n"
   ]
  },
  {
   "cell_type": "code",
   "execution_count": 26,
   "id": "911bf73b-c51f-4a7f-9ea8-c3407033939a",
   "metadata": {},
   "outputs": [
    {
     "name": "stdout",
     "output_type": "stream",
     "text": [
      "Auto-SARIMA Validation RMSE ($): 13.09\n",
      "Auto-SARIMA Validation MAE ($): 10.23\n",
      "Auto-SARIMA Test RMSE ($): 20.23\n",
      "Auto-SARIMA Test MAE ($): 18.10\n"
     ]
    },
    {
     "name": "stderr",
     "output_type": "stream",
     "text": [
      "/opt/anaconda3/lib/python3.12/site-packages/statsmodels/tsa/base/tsa_model.py:836: ValueWarning: No supported index is available. Prediction results will be given with an integer index beginning at `start`.\n",
      "  return get_prediction_index(\n",
      "/opt/anaconda3/lib/python3.12/site-packages/statsmodels/tsa/base/tsa_model.py:836: FutureWarning: No supported index is available. In the next version, calling this method in a model without a supported index will result in an exception.\n",
      "  return get_prediction_index(\n"
     ]
    }
   ],
   "source": [
    "# Forecast validation\n",
    "val_pred_auto = auto_model.predict(n_periods=len(val))\n",
    "val_rmse_auto = sqrt(mean_squared_error(val, val_pred_auto))\n",
    "val_mae_auto = mean_absolute_error(val, val_pred_auto)\n",
    "\n",
    "# Forecast test\n",
    "auto_model.update(val)\n",
    "test_pred_auto = auto_model.predict(n_periods=len(test))\n",
    "test_rmse_auto = sqrt(mean_squared_error(test, test_pred_auto))\n",
    "test_mae_auto = mean_absolute_error(test, test_pred_auto)\n",
    "\n",
    "print(f\"Auto-SARIMA Validation RMSE ($): {val_rmse_auto:.2f}\")\n",
    "print(f\"Auto-SARIMA Validation MAE ($): {val_mae_auto:.2f}\")\n",
    "print(f\"Auto-SARIMA Test RMSE ($): {test_rmse_auto:.2f}\")\n",
    "print(f\"Auto-SARIMA Test MAE ($): {test_mae_auto:.2f}\")"
   ]
  },
  {
   "cell_type": "markdown",
   "id": "8d5f749a-e70f-4cf8-ae09-f41b63a97b2d",
   "metadata": {},
   "source": [
    "### Conclusions  \n",
    "Both SARIMA and Auto-SARIMA show poor performance to forecast next-day stock price: RMSE is about 20.23 and MAE 18.10.  \n",
    "\n",
    "The reason is probably that SARIMA is a linear, purely statistical model designed for smooth, stationary, seasonal time series (like sales, temperature, energy use).\n",
    "Stock prices, however, are:  \n",
    "Highly non-stationary (they trend up or down over time);  \n",
    "Noisy and volatile, with random jumps;  \n",
    "Have no stable seasonality (e.g., no monthly repeating pattern);  \n",
    "Show very weak autocorrelation — meaning yesterday’s price says little about tomorrow’s.\n",
    "\n",
    "So SARIMA tries to find a “trend + seasonal + residual” structure that doesn’t really exist in stock data.\n",
    "It ends up producing a smoothed average line that can’t follow the sharp day-to-day movements — hence large errors (~$20)."
   ]
  },
  {
   "cell_type": "code",
   "execution_count": null,
   "id": "4e3824d0-d566-4645-8a62-561cb1a41ee6",
   "metadata": {},
   "outputs": [],
   "source": []
  }
 ],
 "metadata": {
  "kernelspec": {
   "display_name": "Python (tf_base)",
   "language": "python",
   "name": "tf_base"
  },
  "language_info": {
   "codemirror_mode": {
    "name": "ipython",
    "version": 3
   },
   "file_extension": ".py",
   "mimetype": "text/x-python",
   "name": "python",
   "nbconvert_exporter": "python",
   "pygments_lexer": "ipython3",
   "version": "3.12.4"
  }
 },
 "nbformat": 4,
 "nbformat_minor": 5
}
