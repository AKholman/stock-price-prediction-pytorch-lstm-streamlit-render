{
 "cells": [
  {
   "cell_type": "markdown",
   "id": "c2fb738a-2014-4847-a538-9852a160a349",
   "metadata": {},
   "source": [
    "<center><h1> Next-day Stock Price Forecasting using LSTM model with Pytorch</h1></center>  \n",
    "\n",
    "Goal: Predict next-day close price for AAPL stock (daily regression)\n",
    "Dataset: Daily OHLCV from Yahoo Finance, last 5 years (~1250 rows)\n",
    "Pipeline: CSV download → preprocessing → train/test split → feature engineering → model → deployment\n",
    "Serving & scaling: Expose API in Streamlit, handle multiple users\n",
    "Monitoring: Track MAE/RMSE on latest predictions, detect drift\n",
    "Tradeoffs & retraining: Decide update frequency (weekly/monthly), adjust features or model if performance drops  \n"
   ]
  },
  {
   "cell_type": "code",
   "execution_count": 2,
   "id": "a47daed7-3d04-4f97-8587-501b26aab768",
   "metadata": {},
   "outputs": [],
   "source": [
    "import numpy as np\n",
    "import pandas as pd\n",
    "import torch\n",
    "import torch.nn as nn\n",
    "from torch.utils.data import DataLoader, TensorDataset\n",
    "from sklearn.preprocessing import MinMaxScaler\n",
    "from sklearn.metrics import mean_squared_error, mean_absolute_error\n",
    "from math import sqrt\n",
    "import matplotlib.pyplot as plt"
   ]
  },
  {
   "cell_type": "code",
   "execution_count": 4,
   "id": "5a60ad1a-24f1-4db4-9f2c-993f2e415a27",
   "metadata": {},
   "outputs": [],
   "source": [
    "# Load the CSV file\n",
    "df = pd.read_csv(\"AAPL_5y_daily.csv\", index_col=0, parse_dates=True)\n",
    "df = df.rename(columns={'Adj Close': 'Adj_Close'})\n",
    "\n",
    "# Create target column (next-day Adj_Close)\n",
    "df['Target'] = df['Adj_Close'].shift(-1)\n",
    "df = df.dropna()\n",
    "\n",
    "# Features\n",
    "features = ['Open', 'High', 'Low', 'Close', 'Adj_Close', 'Volume']"
   ]
  },
  {
   "cell_type": "code",
   "execution_count": 6,
   "id": "f58373b9-6f74-4787-8545-7ee3ebe64e8a",
   "metadata": {},
   "outputs": [
    {
     "name": "stdout",
     "output_type": "stream",
     "text": [
      "Train: 1004, Val: 125, Test: 126\n"
     ]
    }
   ],
   "source": [
    "train_size = int(len(df) * 0.8)\n",
    "val_size = int(len(df) * 0.1)\n",
    "\n",
    "train = df.iloc[:train_size]\n",
    "val = df.iloc[train_size:train_size + val_size]\n",
    "test = df.iloc[train_size + val_size:]\n",
    "\n",
    "print(f\"Train: {len(train)}, Val: {len(val)}, Test: {len(test)}\")"
   ]
  },
  {
   "cell_type": "code",
   "execution_count": 8,
   "id": "2c9dfa12-e47e-4864-9839-70f5af9b7835",
   "metadata": {},
   "outputs": [],
   "source": [
    "scaler_X = MinMaxScaler()\n",
    "scaler_y = MinMaxScaler()\n",
    "\n",
    "X_train = scaler_X.fit_transform(train[features])\n",
    "y_train = scaler_y.fit_transform(train[['Target']])\n",
    "\n",
    "X_val = scaler_X.transform(val[features])\n",
    "y_val = scaler_y.transform(val[['Target']])\n",
    "\n",
    "X_test = scaler_X.transform(test[features])\n",
    "y_test = scaler_y.transform(test[['Target']])\n"
   ]
  },
  {
   "cell_type": "code",
   "execution_count": 10,
   "id": "de072392-460a-4b5d-b10b-7ae82c0f86b1",
   "metadata": {},
   "outputs": [],
   "source": [
    "def create_sequences(X, y, time_steps=60):\n",
    "    Xs, ys = [], []\n",
    "    for i in range(len(X) - time_steps):\n",
    "        Xs.append(X[i:(i + time_steps)])\n",
    "        ys.append(y[i + time_steps])\n",
    "    return np.array(Xs), np.array(ys)\n",
    "\n",
    "time_steps = 60\n",
    "X_train_seq, y_train_seq = create_sequences(X_train, y_train, time_steps)\n",
    "X_val_seq, y_val_seq = create_sequences(X_val, y_val, time_steps)\n",
    "X_test_seq, y_test_seq = create_sequences(X_test, y_test, time_steps)\n"
   ]
  },
  {
   "cell_type": "code",
   "execution_count": 12,
   "id": "93c0db84-2b5d-4574-9eb2-d6bfa3d63f60",
   "metadata": {},
   "outputs": [],
   "source": [
    "device = torch.device(\"cuda\" if torch.cuda.is_available() else \"cpu\")\n",
    "\n",
    "X_train_t = torch.tensor(X_train_seq, dtype=torch.float32).to(device)\n",
    "y_train_t = torch.tensor(y_train_seq, dtype=torch.float32).to(device)\n",
    "X_val_t = torch.tensor(X_val_seq, dtype=torch.float32).to(device)\n",
    "y_val_t = torch.tensor(y_val_seq, dtype=torch.float32).to(device)\n",
    "X_test_t = torch.tensor(X_test_seq, dtype=torch.float32).to(device)\n",
    "y_test_t = torch.tensor(y_test_seq, dtype=torch.float32).to(device)\n",
    "\n",
    "train_loader = DataLoader(TensorDataset(X_train_t, y_train_t), batch_size=32, shuffle=True)\n",
    "val_loader = DataLoader(TensorDataset(X_val_t, y_val_t), batch_size=32, shuffle=False)\n"
   ]
  },
  {
   "cell_type": "code",
   "execution_count": 14,
   "id": "c99db033-3d47-48c2-a1b4-7a55440c4cf0",
   "metadata": {},
   "outputs": [
    {
     "name": "stdout",
     "output_type": "stream",
     "text": [
      "LSTMModel(\n",
      "  (lstm): LSTM(6, 64, num_layers=2, batch_first=True, dropout=0.2)\n",
      "  (fc1): Linear(in_features=64, out_features=16, bias=True)\n",
      "  (relu): ReLU()\n",
      "  (fc2): Linear(in_features=16, out_features=1, bias=True)\n",
      ")\n"
     ]
    }
   ],
   "source": [
    "class LSTMModel(nn.Module):\n",
    "    def __init__(self, input_dim, hidden_dim, num_layers, output_dim, dropout=0.2):\n",
    "        super(LSTMModel, self).__init__()\n",
    "        self.lstm = nn.LSTM(input_dim, hidden_dim, num_layers, batch_first=True, dropout=dropout)\n",
    "        self.fc1 = nn.Linear(hidden_dim, 16)\n",
    "        self.relu = nn.ReLU()\n",
    "        self.fc2 = nn.Linear(16, output_dim)\n",
    "        \n",
    "    def forward(self, x):\n",
    "        out, _ = self.lstm(x)\n",
    "        out = out[:, -1, :]  # take the last time step\n",
    "        out = self.relu(self.fc1(out))\n",
    "        out = self.fc2(out)\n",
    "        return out\n",
    "\n",
    "model = LSTMModel(input_dim=len(features), hidden_dim=64, num_layers=2, output_dim=1).to(device)\n",
    "print(model)"
   ]
  },
  {
   "cell_type": "code",
   "execution_count": 16,
   "id": "af5136e3-55ff-43d1-ad6f-7371fa2a1e54",
   "metadata": {},
   "outputs": [],
   "source": [
    "criterion = nn.MSELoss()\n",
    "optimizer = torch.optim.Adam(model.parameters(), lr=0.001)"
   ]
  },
  {
   "cell_type": "code",
   "execution_count": 17,
   "id": "7ae133c0-1426-4a53-858f-76256b6eaf72",
   "metadata": {},
   "outputs": [
    {
     "name": "stdout",
     "output_type": "stream",
     "text": [
      "Epoch 1/60 | Train Loss: 0.062449 | Val Loss: 0.120107\n",
      "Epoch 2/60 | Train Loss: 0.008275 | Val Loss: 0.005919\n",
      "Epoch 3/60 | Train Loss: 0.003460 | Val Loss: 0.005923\n",
      "Epoch 4/60 | Train Loss: 0.002852 | Val Loss: 0.005981\n",
      "Epoch 5/60 | Train Loss: 0.002755 | Val Loss: 0.004850\n",
      "Epoch 6/60 | Train Loss: 0.002391 | Val Loss: 0.004655\n",
      "Epoch 7/60 | Train Loss: 0.002322 | Val Loss: 0.004568\n",
      "Epoch 8/60 | Train Loss: 0.002145 | Val Loss: 0.004796\n",
      "Epoch 9/60 | Train Loss: 0.002238 | Val Loss: 0.004310\n",
      "Epoch 10/60 | Train Loss: 0.002018 | Val Loss: 0.004226\n",
      "Epoch 11/60 | Train Loss: 0.002007 | Val Loss: 0.004170\n",
      "Epoch 12/60 | Train Loss: 0.001979 | Val Loss: 0.004859\n",
      "Epoch 13/60 | Train Loss: 0.001920 | Val Loss: 0.004764\n",
      "Epoch 14/60 | Train Loss: 0.001846 | Val Loss: 0.005010\n",
      "Epoch 15/60 | Train Loss: 0.001926 | Val Loss: 0.004590\n",
      "Epoch 16/60 | Train Loss: 0.001814 | Val Loss: 0.004147\n",
      "Epoch 17/60 | Train Loss: 0.001859 | Val Loss: 0.003706\n",
      "Epoch 18/60 | Train Loss: 0.001801 | Val Loss: 0.003534\n",
      "Epoch 19/60 | Train Loss: 0.001740 | Val Loss: 0.006045\n",
      "Epoch 20/60 | Train Loss: 0.002013 | Val Loss: 0.004398\n",
      "Epoch 21/60 | Train Loss: 0.001891 | Val Loss: 0.006634\n",
      "Epoch 22/60 | Train Loss: 0.001694 | Val Loss: 0.003854\n",
      "Epoch 23/60 | Train Loss: 0.001668 | Val Loss: 0.003387\n",
      "Epoch 24/60 | Train Loss: 0.001624 | Val Loss: 0.003735\n",
      "Epoch 25/60 | Train Loss: 0.001702 | Val Loss: 0.003233\n",
      "Epoch 26/60 | Train Loss: 0.001632 | Val Loss: 0.003154\n",
      "Epoch 27/60 | Train Loss: 0.001510 | Val Loss: 0.003116\n",
      "Epoch 28/60 | Train Loss: 0.001656 | Val Loss: 0.003281\n",
      "Epoch 29/60 | Train Loss: 0.001574 | Val Loss: 0.002994\n",
      "Epoch 30/60 | Train Loss: 0.001563 | Val Loss: 0.004486\n",
      "Epoch 31/60 | Train Loss: 0.001600 | Val Loss: 0.003057\n",
      "Epoch 32/60 | Train Loss: 0.001554 | Val Loss: 0.003346\n",
      "Epoch 33/60 | Train Loss: 0.001490 | Val Loss: 0.002827\n",
      "Epoch 34/60 | Train Loss: 0.001502 | Val Loss: 0.002850\n",
      "Epoch 35/60 | Train Loss: 0.001493 | Val Loss: 0.002845\n",
      "Epoch 36/60 | Train Loss: 0.001715 | Val Loss: 0.003031\n",
      "Epoch 37/60 | Train Loss: 0.001460 | Val Loss: 0.002829\n",
      "Epoch 38/60 | Train Loss: 0.001597 | Val Loss: 0.002757\n",
      "Epoch 39/60 | Train Loss: 0.001525 | Val Loss: 0.002935\n",
      "Epoch 40/60 | Train Loss: 0.001379 | Val Loss: 0.002713\n",
      "Epoch 41/60 | Train Loss: 0.001449 | Val Loss: 0.002657\n",
      "Epoch 42/60 | Train Loss: 0.001643 | Val Loss: 0.003468\n",
      "Epoch 43/60 | Train Loss: 0.001385 | Val Loss: 0.003517\n",
      "Epoch 44/60 | Train Loss: 0.001612 | Val Loss: 0.003051\n",
      "Epoch 45/60 | Train Loss: 0.001362 | Val Loss: 0.002982\n",
      "Epoch 46/60 | Train Loss: 0.001383 | Val Loss: 0.002742\n",
      "Epoch 47/60 | Train Loss: 0.001381 | Val Loss: 0.002585\n",
      "Epoch 48/60 | Train Loss: 0.001418 | Val Loss: 0.002745\n",
      "Epoch 49/60 | Train Loss: 0.001413 | Val Loss: 0.002590\n",
      "Epoch 50/60 | Train Loss: 0.001361 | Val Loss: 0.002606\n",
      "Epoch 51/60 | Train Loss: 0.001337 | Val Loss: 0.003188\n",
      "Epoch 52/60 | Train Loss: 0.001349 | Val Loss: 0.002536\n",
      "Epoch 53/60 | Train Loss: 0.001333 | Val Loss: 0.002743\n",
      "Epoch 54/60 | Train Loss: 0.001274 | Val Loss: 0.002563\n",
      "Epoch 55/60 | Train Loss: 0.001334 | Val Loss: 0.002655\n",
      "Epoch 56/60 | Train Loss: 0.001259 | Val Loss: 0.002481\n",
      "Epoch 57/60 | Train Loss: 0.001346 | Val Loss: 0.002502\n",
      "Epoch 58/60 | Train Loss: 0.001264 | Val Loss: 0.002657\n",
      "Epoch 59/60 | Train Loss: 0.001263 | Val Loss: 0.002594\n",
      "Epoch 60/60 | Train Loss: 0.001238 | Val Loss: 0.002508\n"
     ]
    }
   ],
   "source": [
    "epochs = 60\n",
    "best_val_loss = float(\"inf\")\n",
    "patience, wait = 10, 0\n",
    "\n",
    "for epoch in range(epochs):\n",
    "    model.train()\n",
    "    train_losses = []\n",
    "    for X_batch, y_batch in train_loader:\n",
    "        optimizer.zero_grad()\n",
    "        y_pred = model(X_batch)\n",
    "        loss = criterion(y_pred, y_batch)\n",
    "        loss.backward()\n",
    "        optimizer.step()\n",
    "        train_losses.append(loss.item())\n",
    "\n",
    "    # Validation\n",
    "    model.eval()\n",
    "    with torch.no_grad():\n",
    "        val_pred = model(X_val_t)\n",
    "        val_loss = criterion(val_pred, y_val_t).item()\n",
    "    \n",
    "    print(f\"Epoch {epoch+1}/{epochs} | Train Loss: {np.mean(train_losses):.6f} | Val Loss: {val_loss:.6f}\")\n",
    "    \n",
    "    # Early stopping\n",
    "    if val_loss < best_val_loss:\n",
    "        best_val_loss = val_loss\n",
    "        torch.save(model.state_dict(), \"best_lstm_model.pth\")\n",
    "        wait = 0\n",
    "    else:\n",
    "        wait += 1\n",
    "        if wait >= patience:\n",
    "            print(\"Early stopping.\")\n",
    "            break\n",
    "\n"
   ]
  },
  {
   "cell_type": "code",
   "execution_count": 18,
   "id": "e99c9b67-cb8f-4b78-8217-f452b084f4ca",
   "metadata": {},
   "outputs": [
    {
     "name": "stdout",
     "output_type": "stream",
     "text": [
      "Test RMSE: 6.917\n",
      "Test MAE: 5.310\n"
     ]
    },
    {
     "name": "stderr",
     "output_type": "stream",
     "text": [
      "/var/folders/p7/krbf_vbj2lqf31fmqjz_j8xm0000gn/T/ipykernel_6982/3013179017.py:1: FutureWarning: You are using `torch.load` with `weights_only=False` (the current default value), which uses the default pickle module implicitly. It is possible to construct malicious pickle data which will execute arbitrary code during unpickling (See https://github.com/pytorch/pytorch/blob/main/SECURITY.md#untrusted-models for more details). In a future release, the default value for `weights_only` will be flipped to `True`. This limits the functions that could be executed during unpickling. Arbitrary objects will no longer be allowed to be loaded via this mode unless they are explicitly allowlisted by the user via `torch.serialization.add_safe_globals`. We recommend you start setting `weights_only=True` for any use case where you don't have full control of the loaded file. Please open an issue on GitHub for any issues related to this experimental feature.\n",
      "  model.load_state_dict(torch.load(\"best_lstm_model.pth\"))\n"
     ]
    },
    {
     "data": {
      "image/png": "[encoded data removed]",
      "text/plain": [
       "<Figure size 800x500 with 1 Axes>"
      ]
     },
     "metadata": {},
     "output_type": "display_data"
    }
   ],
   "source": [
    "model.load_state_dict(torch.load(\"best_lstm_model.pth\"))\n",
    "model.eval()\n",
    "with torch.no_grad():\n",
    "    y_pred_scaled = model(X_test_t).cpu().numpy()\n",
    "\n",
    "y_test_inv = scaler_y.inverse_transform(y_test_seq)\n",
    "y_pred_inv = scaler_y.inverse_transform(y_pred_scaled)\n",
    "\n",
    "rmse = sqrt(mean_squared_error(y_test_inv, y_pred_inv))\n",
    "mae = mean_absolute_error(y_test_inv, y_pred_inv)\n",
    "mape = np.mean(np.abs((y_test_inv - y_pred_inv) / y_test_inv)) * 100\n",
    "\n",
    "print(f\"Test RMSE: {rmse:.3f}\")\n",
    "print(f\"Test MAE: {mae:.3f}\")\n",
    "\n",
    "plt.figure(figsize=(8,5))\n",
    "plt.plot(y_test_inv, label='Actual')\n",
    "plt.plot(y_pred_inv, label='Predicted')\n",
    "plt.title(\"AAPL LSTM (PyTorch) - Next-Day Adj Close Prediction\")\n",
    "plt.xlabel(\"Days\")\n",
    "plt.ylabel(\"Price\")\n",
    "plt.legend()\n",
    "plt.show()"
   ]
  },
  {
   "cell_type": "code",
   "execution_count": 22,
   "id": "de7ba56a-a0c3-481b-a049-9af1c6c17c92",
   "metadata": {},
   "outputs": [
    {
     "name": "stdout",
     "output_type": "stream",
     "text": [
      "Predicted next-day Adj Close: $249.07\n"
     ]
    }
   ],
   "source": [
    "last_60_days = X_test_seq[-1:]\n",
    "last_60_days_t = torch.tensor(last_60_days, dtype=torch.float32).to(device)\n",
    "with torch.no_grad():\n",
    "    next_day_scaled = model(last_60_days_t).cpu().numpy()\n",
    "next_day_pred = scaler_y.inverse_transform(next_day_scaled)\n",
    "print(f\"Predicted next-day Adj Close: ${next_day_pred[0][0]:.2f}\")"
   ]
  },
  {
   "cell_type": "markdown",
   "id": "b147e151-0cb9-4149-8ba3-9af52590c4ad",
   "metadata": {},
   "source": [
    "### timestep=60:   \n",
    "Test RMSE: 6.917  \n",
    "Test MAE: 5.310\n"
   ]
  }
 ],
 "metadata": {
  "kernelspec": {
   "display_name": "Python 3 (ipykernel)",
   "language": "python",
   "name": "python3"
  },
  "language_info": {
   "codemirror_mode": {
    "name": "ipython",
    "version": 3
   },
   "file_extension": ".py",
   "mimetype": "text/x-python",
   "name": "python",
   "nbconvert_exporter": "python",
   "pygments_lexer": "ipython3",
   "version": "3.12.4"
  }
 },
 "nbformat": 4,
 "nbformat_minor": 5
}
